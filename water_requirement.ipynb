{
  "nbformat": 4,
  "nbformat_minor": 0,
  "metadata": {
    "colab": {
      "provenance": [],
      "authorship_tag": "ABX9TyPth/JZZCXlXN/VD0919YjK",
      "include_colab_link": true
    },
    "kernelspec": {
      "name": "python3",
      "display_name": "Python 3"
    },
    "language_info": {
      "name": "python"
    }
  },
  "cells": [
    {
      "cell_type": "markdown",
      "metadata": {
        "id": "view-in-github",
        "colab_type": "text"
      },
      "source": [
        "<a href=\"https://colab.research.google.com/github/Tabrid/iinms/blob/main/water_requirement.ipynb\" target=\"_parent\"><img src=\"https://colab.research.google.com/assets/colab-badge.svg\" alt=\"Open In Colab\"/></a>"
      ]
    },
    {
      "cell_type": "code",
      "source": [
        "import math\n",
        "\n",
        "T_max=24.6000003814697\n",
        "T_min=11.5\n",
        "T_mean=(T_max + T_min) / 2\n",
        "Humidity=77.6666666666667\n",
        "SSH=7.80000019073486\n",
        "WS=1.36694057142857\n",
        "Julian_Day=228\n",
        "Latitude=24.4\n",
        "lat_rad = math.radians(Latitude)"
      ],
      "metadata": {
        "id": "kyWjJcl4CyA2"
      },
      "execution_count": 25,
      "outputs": []
    },
    {
      "cell_type": "code",
      "source": [
        "import math\n",
        "\n",
        "def calculate_Es(T_mean):\n",
        "    return 0.6108 * math.exp((17.27 * T_mean) / (237.3 + T_mean))"
      ],
      "metadata": {
        "id": "WW-vRlAtFM8x"
      },
      "execution_count": 26,
      "outputs": []
    },
    {
      "cell_type": "code",
      "source": [
        "def calculate_delta(T_mean):\n",
        "    ES_value = calculate_Es(T_mean)\n",
        "    delta = (4098 * ES_value) / ((237.3 + T_mean) ** 2)\n",
        "    return delta"
      ],
      "metadata": {
        "id": "Kk9uOhBOG4Ee"
      },
      "execution_count": 27,
      "outputs": []
    },
    {
      "cell_type": "code",
      "source": [
        "delta_value=calculate_delta(T_mean)"
      ],
      "metadata": {
        "id": "mHd-fSvlH7hL"
      },
      "execution_count": 28,
      "outputs": []
    },
    {
      "cell_type": "code",
      "source": [
        "import math\n",
        "\n",
        "def e_tmin(tmin: float) -> float:\n",
        "    return 0.6108 * math.exp((17.27 * tmin) / (tmin + 237.3))\n",
        "def e_tmax(tmax: float) -> float:\n",
        "    return 0.6108 * math.exp((17.27 * tmax) / (tmax + 237.3))\n",
        "calculate_e_tmin = e_tmin(T_min)\n",
        "calculate_e_tmax = e_tmin(T_max)\n",
        "calculate_es = (calculate_e_tmin + calculate_e_tmax) / 2\n",
        "calculate_ea = calculate_es * (Humidity / 100)\n",
        "\n",
        "\n",
        "print(calculate_e_tmin)\n",
        "print(calculate_e_tmax)\n",
        "print(calculate_es)\n",
        "print(calculate_ea)"
      ],
      "metadata": {
        "colab": {
          "base_uri": "https://localhost:8080/"
        },
        "id": "gM5LUDiyIRfP",
        "outputId": "06f00bba-0f4c-496b-c0d2-0ce88baeb625"
      },
      "execution_count": 29,
      "outputs": [
        {
          "output_type": "stream",
          "name": "stdout",
          "text": [
            "1.3569857803790661\n",
            "3.093081400019516\n",
            "2.225033590199291\n",
            "1.72810942172145\n"
          ]
        }
      ]
    },
    {
      "cell_type": "code",
      "source": [
        "def delta(Julian_Day: int) -> float:\n",
        "    return 0.409 * math.sin((2 * math.pi * Julian_Day / 365) - 1.39)\n",
        "\n",
        "\n",
        "def ws_hs() -> float:\n",
        "  delta_result = delta(Julian_Day)\n",
        "  return math.acos(-math.tan(lat_rad) * math.tan(delta_result))\n",
        "\n",
        "calculate_delta = delta(Julian_Day)\n",
        "calculate_ws_hs = ws_hs()"
      ],
      "metadata": {
        "id": "ZVRTFYb7LhPg"
      },
      "execution_count": 30,
      "outputs": []
    },
    {
      "cell_type": "code",
      "source": [
        "import math\n",
        "\n",
        "def calculate_n(calculate_ws_hs):\n",
        "    return (24 / math.pi) * calculate_ws_hs\n",
        "\n",
        "calculate_n = calculate_n(calculate_ws_hs)\n",
        "nM = SSH/calculate_n\n",
        "\n",
        "def calculate_rb(nM, calculate_ea, T_mean):\n",
        "    return (0.1 + 0.9 * nM) * (0.34 - 0.14 * math.sqrt(calculate_ea)) * 4.9e-9 * (273 + T_mean) ** 4\n",
        "\n",
        "calculate_rb = calculate_rb(nM, calculate_ea, T_mean)\n",
        "print(calculate_rb)"
      ],
      "metadata": {
        "colab": {
          "base_uri": "https://localhost:8080/"
        },
        "id": "tRfzh0IlSnkU",
        "outputId": "4370b5ac-8c4e-4369-94fe-7b3aebd1f632"
      },
      "execution_count": 31,
      "outputs": [
        {
          "output_type": "stream",
          "name": "stdout",
          "text": [
            "3.5500667475175645\n"
          ]
        }
      ]
    },
    {
      "cell_type": "code",
      "source": [
        "def calculate_dr(Julian_Day):\n",
        "    return 1 + 0.033 * math.cos(2 * math.pi * Julian_Day / 365)\n",
        "\n",
        "calculate_dr = calculate_dr(Julian_Day)\n",
        "print(calculate_dr)\n"
      ],
      "metadata": {
        "colab": {
          "base_uri": "https://localhost:8080/"
        },
        "id": "HzYpT-hMY2ZY",
        "outputId": "67664710-4bd6-4c4d-cf13-15f44643435b"
      },
      "execution_count": 32,
      "outputs": [
        {
          "output_type": "stream",
          "name": "stdout",
          "text": [
            "0.9766153196172728\n"
          ]
        }
      ]
    },
    {
      "cell_type": "code",
      "source": [
        "def calculate_ra(calculate_dr, calculate_ws_hs, lat_rad, calculate_delta):\n",
        "    return (24 * 60 / math.pi) * 0.082 * calculate_dr * ((calculate_ws_hs * math.sin(lat_rad) * math.sin(calculate_delta)) +\n",
        "                                               (math.cos(lat_rad) * math.cos(calculate_delta) * math.sin(calculate_ws_hs)))\n",
        "\n",
        "Ra = calculate_ra(calculate_dr, calculate_ws_hs, lat_rad, calculate_delta)\n",
        "print(Ra)"
      ],
      "metadata": {
        "colab": {
          "base_uri": "https://localhost:8080/"
        },
        "id": "toXhWF-qZlvQ",
        "outputId": "ba9c81ff-a0e4-45f7-ecb1-65de10d30f8f"
      },
      "execution_count": 33,
      "outputs": [
        {
          "output_type": "stream",
          "name": "stdout",
          "text": [
            "38.217355275896374\n"
          ]
        }
      ]
    },
    {
      "cell_type": "code",
      "source": [
        "def calculate_rs(n4, l4):\n",
        "    return (0.25 + 0.5 * n4) * l4\n",
        "Rs = calculate_rs(nM, Ra)\n",
        "print(Rs)"
      ],
      "metadata": {
        "colab": {
          "base_uri": "https://localhost:8080/"
        },
        "id": "bhl3WvlF3WTf",
        "outputId": "2ad47638-cda0-4897-f277-81af48ec07fe"
      },
      "execution_count": 34,
      "outputs": [
        {
          "output_type": "stream",
          "name": "stdout",
          "text": [
            "21.176211421068036\n"
          ]
        }
      ]
    },
    {
      "cell_type": "code",
      "source": [
        "def calculate_vpd(p4, q4, s4):\n",
        "    return 0.5 * (p4 + q4) - s4\n",
        "\n",
        "VPD = calculate_vpd(calculate_e_tmax, calculate_e_tmin, calculate_ea)\n",
        "print(VPD)"
      ],
      "metadata": {
        "colab": {
          "base_uri": "https://localhost:8080/"
        },
        "id": "thwW3xzZ31XF",
        "outputId": "8f33addb-0438-4be0-f7dd-c571cdd21eea"
      },
      "execution_count": 35,
      "outputs": [
        {
          "output_type": "stream",
          "name": "stdout",
          "text": [
            "0.49692416847784093\n"
          ]
        }
      ]
    },
    {
      "cell_type": "code",
      "source": [
        "def calculate_rn( o4, u4):\n",
        "    return (1 - 0.23) * o4 - u4\n",
        "\n",
        "Rn = calculate_rn(Rs,calculate_rb)\n",
        "print(Rn)"
      ],
      "metadata": {
        "colab": {
          "base_uri": "https://localhost:8080/"
        },
        "id": "tGj6vACh4-y6",
        "outputId": "883f6ab9-613f-4ee1-97c8-8e61f6f87504"
      },
      "execution_count": 36,
      "outputs": [
        {
          "output_type": "stream",
          "name": "stdout",
          "text": [
            "12.755616046704823\n"
          ]
        }
      ]
    },
    {
      "cell_type": "code",
      "source": [
        "def calculate_et(x4, v4, t4, h4):\n",
        "    return (x4 * v4 + 0.5 * t4 * h4) / 2.45 / (x4 + 0.067 * (1 + 0.33 * h4))\n",
        "\n",
        "ET = calculate_et(delta_value, Rn, VPD, WS)\n",
        "print(f'ET value is: {ET:.2f}')\n"
      ],
      "metadata": {
        "colab": {
          "base_uri": "https://localhost:8080/"
        },
        "id": "xn4kkIZk6eIU",
        "outputId": "35efd597-f2ab-43de-f809-843060138cb7"
      },
      "execution_count": 37,
      "outputs": [
        {
          "output_type": "stream",
          "name": "stdout",
          "text": [
            "ET value is: 3.59\n"
          ]
        }
      ]
    }
  ]
}